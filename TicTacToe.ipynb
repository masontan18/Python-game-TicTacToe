{
 "cells": [
  {
   "cell_type": "code",
   "execution_count": 9,
   "id": "2168a37c",
   "metadata": {},
   "outputs": [],
   "source": [
    "from IPython.display import clear_output\n",
    "\n",
    "def display_game(game_list):\n",
    "    print(\"Current Game Board: \\n\")\n",
    "    print(\"   |   |   \")\n",
    "    print(f\" {game_list[6]} | {game_list[7]} | {game_list[8]} \")\n",
    "    print(\"   |   |   \")\n",
    "    print(\"-----------\")\n",
    "    print(\"   |   |   \")\n",
    "    print(f\" {game_list[3]} | {game_list[4]} | {game_list[5]} \")\n",
    "    print(\"   |   |   \")\n",
    "    print(\"-----------\")\n",
    "    print(\"   |   |   \")\n",
    "    print(f\" {game_list[0]} | {game_list[1]} | {game_list[2]} \")\n",
    "    print(\"   |   |   \")\n"
   ]
  },
  {
   "cell_type": "code",
   "execution_count": 10,
   "id": "b68d0b78",
   "metadata": {},
   "outputs": [],
   "source": [
    "def symbol_choice():\n",
    "    symbol_one = \"WRONG\"\n",
    "    while symbol_one not in [ \"O\", \"X\" ]:\n",
    "        symbol_one = input(\"Player 1: Do you want to be X or O?\")\n",
    "        if symbol_one not in [ \"O\", \"X\" ]:\n",
    "            clear_output()\n",
    "            print(\"Sorry, please choose O or X for Player 1\")\n",
    "        else:\n",
    "            if symbol_one == \"X\":\n",
    "                symbol_two = \"O\"\n",
    "            else:\n",
    "                symbol_two = \"X\"\n",
    "            print(f\"Start the game: Player 1 as {symbol_one} and Player 2 as {symbol_two}\")\n",
    "    return [ symbol_one, symbol_two ]\n"
   ]
  },
  {
   "cell_type": "code",
   "execution_count": 11,
   "id": "25a10711",
   "metadata": {},
   "outputs": [],
   "source": [
    "def position_choice(game_list):\n",
    "    choice = \"WRONG\"\n",
    "    acceptable_range = [\"1\", \"2\", \"3\", \"4\", \"5\", \"6\", \"7\", \"8\", \"9\"]\n",
    "    while choice not in acceptable_range:\n",
    "        choice = input(\"Choose your next position: (1-9)\")\n",
    "        if choice not in acceptable_range:\n",
    "            clear_output()\n",
    "            print(\"Position choosen is out of range, enter 1-9\")\n",
    "            \n",
    "    while game_list[int(choice)-1] != \" \":\n",
    "        choice = input(\"The position choosen is not available, please try with other positions\")\n",
    "        \n",
    "    return int(choice)\n",
    "\n",
    "    \n"
   ]
  },
  {
   "cell_type": "code",
   "execution_count": 12,
   "id": "63b2f4d4",
   "metadata": {},
   "outputs": [],
   "source": [
    "def replacement_choice(game_list, position, symbols, turn):\n",
    "    if turn == \"player1\":\n",
    "        game_list[position-1] = symbols[0]\n",
    "    else:\n",
    "        game_list[position-1] = symbols[1]\n",
    "        \n",
    "    return game_list\n"
   ]
  },
  {
   "cell_type": "code",
   "execution_count": 13,
   "id": "c4464e41",
   "metadata": {},
   "outputs": [],
   "source": [
    "def gameon_choice():\n",
    "    choice = \"WRONG\"\n",
    "    while choice not in [ \"Y\", \"N\" ]:\n",
    "        choice = input(\"Keep playing? (Y / N)\")\n",
    "        if choice not in [ \"Y\", 'N' ]:\n",
    "            clear_output()\n",
    "            print(\"Sorry we don't understand, keep playing? (Y / N)\")\n",
    "    return choice == \"Y\"\n"
   ]
  },
  {
   "cell_type": "code",
   "execution_count": 14,
   "id": "72bb7dfa",
   "metadata": {},
   "outputs": [],
   "source": [
    "def win_check(game_list, turn, symbols):\n",
    "    if turn == \"player1\":\n",
    "        symbol = symbols[0]\n",
    "        if (game_list[0] == symbol and game_list[1] == symbol and game_list[2] == symbol) or (game_list[3] == symbol and game_list[4] == symbol and game_list[5] == symbol) or (game_list[6] == symbol and game_list[7] == symbol and game_list[8] == symbol) or (game_list[6] == symbol and game_list[3] == symbol and game_list[0] == symbol) or (game_list[7] == symbol and game_list[4] == symbol and game_list[1] == symbol) or (game_list[8] == symbol and game_list[5] == symbol and game_list[2] == symbol) or (game_list[0] == symbol and game_list[4] == symbol and game_list[8] == symbol) or (game_list[6] == symbol and game_list[4] == symbol and game_list[2] == symbol):\n",
    "            print(\"Congratulations! Player 1 have won the game!\")\n",
    "            return True\n",
    "                \n",
    "    if turn == \"player2\":\n",
    "        symbol = symbols[1]\n",
    "        if (game_list[0] == symbol and game_list[1] == symbol and game_list[2] == symbol) or (game_list[3] == symbol and game_list[4] == symbol and game_list[5] == symbol) or (game_list[6] == symbol and game_list[7] == symbol and game_list[8] == symbol) or (game_list[6] == symbol and game_list[3] == symbol and game_list[0] == symbol) or (game_list[7] == symbol and game_list[4] == symbol and game_list[1] == symbol) or (game_list[8] == symbol and game_list[5] == symbol and game_list[2] == symbol) or (game_list[0] == symbol and game_list[4] == symbol and game_list[8] == symbol) or (game_list[6] == symbol and game_list[4] == symbol and game_list[2] == symbol):\n",
    "            print(\"Congratulations! Player 2 have won the game!\")\n",
    "            return True\n",
    "    \n",
    "    return False\n"
   ]
  },
  {
   "cell_type": "code",
   "execution_count": 15,
   "id": "ac935901",
   "metadata": {},
   "outputs": [
    {
     "name": "stdout",
     "output_type": "stream",
     "text": [
      "Welcome to KM's Tic-Tac-Toe\n",
      "Are you ready? (Y / N)N\n",
      "Hope to see you again!\n"
     ]
    }
   ],
   "source": [
    "def start_game():\n",
    "    game_list = [ \" \", \" \", \" \", \" \", \" \", \" \", \" \", \" \", \" \" ]\n",
    "    turn = \"player1\"\n",
    "    round = 0\n",
    "    print(\"Welcome to KM's Tic-Tac-Toe\")\n",
    "    ready_status = \"WRONG\"\n",
    "    while ready_status not in [ \"Y\", \"N\" ]:\n",
    "            ready_status = input(\"Are you ready? (Y / N)\")\n",
    "            if ready_status not in [ \"Y\", \"N\" ]:\n",
    "                clear_output()\n",
    "                print(\"Sorry we don't understand, ready to play? (Y / N)\")\n",
    "                \n",
    "    if ready_status == \"Y\":\n",
    "        clear_output()\n",
    "        display_game(game_list)\n",
    "        symbols = symbol_choice()\n",
    "        someone_win = False\n",
    "        \n",
    "        while not someone_win:\n",
    "            if round == 9:\n",
    "                print(\"No One Wins!\")\n",
    "                if gameon_choice():\n",
    "                    start_game()\n",
    "                else:\n",
    "                    print(\"Thanks for playing, see you!\")\n",
    "                    break\n",
    "                    \n",
    "            position = position_choice(game_list)\n",
    "            game_list = replacement_choice(game_list, position, symbols, turn)\n",
    "            clear_output()\n",
    "            display_game(game_list)\n",
    "            someone_win = win_check(game_list, turn, symbols)\n",
    "            \n",
    "            if turn == \"player1\":\n",
    "                turn = \"player2\"\n",
    "            else:\n",
    "                turn = \"player1\"\n",
    "                \n",
    "            round += 1\n",
    "        else:\n",
    "            if gameon_choice():\n",
    "                start_game()\n",
    "            else:\n",
    "                print(\"Thanks for playing, see you!\")\n",
    "        \n",
    "    else:\n",
    "        print(\"Hope to see you again!\")\n",
    "\n",
    "\n",
    "start_game()"
   ]
  },
  {
   "cell_type": "code",
   "execution_count": null,
   "id": "e5a209d9",
   "metadata": {},
   "outputs": [],
   "source": []
  }
 ],
 "metadata": {
  "kernelspec": {
   "display_name": "Python 3 (ipykernel)",
   "language": "python",
   "name": "python3"
  },
  "language_info": {
   "codemirror_mode": {
    "name": "ipython",
    "version": 3
   },
   "file_extension": ".py",
   "mimetype": "text/x-python",
   "name": "python",
   "nbconvert_exporter": "python",
   "pygments_lexer": "ipython3",
   "version": "3.11.4"
  }
 },
 "nbformat": 4,
 "nbformat_minor": 5
}
